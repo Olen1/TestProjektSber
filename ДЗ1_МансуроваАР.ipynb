{
 "cells": [
  {
   "cell_type": "markdown",
   "id": "85a86695-b52c-42ee-a9dc-95b7419c801a",
   "metadata": {},
   "source": [
    "## Домашняя работа\n",
    "ФИО: Мансурова А.Р."
   ]
  },
  {
   "cell_type": "markdown",
   "id": "2cc9dd86-1a1f-4d82-967b-a3bead7681fb",
   "metadata": {},
   "source": [
    "## Задание 1\n",
    "Реализуйте метакласс ThreadSafeSingleton, который обеспечивает создание только одного экземпляра класса, даже в многопоточной среде.\n",
    "Используйте `from threading import Lock`\n"
   ]
  },
  {
   "cell_type": "markdown",
   "id": "c84a3c10-9973-4cca-9c8b-e5adf8aac5bb",
   "metadata": {},
   "source": [
    "### проверка задания 1"
   ]
  },
  {
   "cell_type": "code",
   "execution_count": null,
   "id": "f15a5818-dab8-4397-b14e-94c974640ad4",
   "metadata": {},
   "outputs": [],
   "source": [
    "from threading import Lock\n",
    "\n",
    "class ThreadSafeSingleton(type):\n",
    "    _instances = {}\n",
    "    _lock = Lock()\n",
    "\n",
    "    def __call__(cls, *args, **kwargs):\n",
    "        with cls._lock:\n",
    "            if cls not in cls._instances:\n",
    "                cls._instances[cls] = super().__call__(*args, **kwargs)\n",
    "        return cls._instances[cls]\n",
    "\n",
    "\n",
    "class DatabasePool(metaclass=ThreadSafeSingleton):\n",
    "    def __init__(self):\n",
    "        if not hasattr(self, '_connections'):\n",
    "            self._connections = [\"conn_1\", \"conn_2\", \"conn_3\"]\n",
    "            self._index = 0\n",
    "\n",
    "    def get_connection(self):\n",
    "        conn = self._connections[self._index]\n",
    "        self._index = (self._index + 1) % len(self._connections)\n",
    "        return conn\n",
    "\n",
    "\n",
    "# Создайте 3 экземпляра DatabasePool\n",
    "pool1 = DatabasePool()\n",
    "pool2 = DatabasePool()\n",
    "pool3 = DatabasePool()\n",
    "\n",
    "# Убедитесь, что это один и тот же объект\n",
    "assert pool1 is pool2 is pool3\n",
    "\n",
    "# Проверьте, что соединения разделяются между экземплярами\n",
    "conn1 = pool1.get_connection()\n",
    "conn2 = pool2.get_connection()\n",
    "assert conn1 != conn2"
   ]
  },
  {
   "cell_type": "markdown",
   "id": "e6f5e3e9-7684-4191-b207-8164d08992c4",
   "metadata": {},
   "source": [
    "## Задание 2\n",
    "\n",
    "Создайте метакласс, который считает, сколько раз создавался каждый класс.\n",
    "\n",
    "Требования:\n",
    "1. Метакласс должен иметь атрибут _counters\n",
    "1. При создании экземпляра класса счетчик должен увеличиваться\n",
    "1. Добавьте метод get_count(), который возвращает количество созданных экземпляров"
   ]
  },
  {
   "cell_type": "markdown",
   "id": "f0d84e76-f75b-4511-9f30-779c827e9642",
   "metadata": {},
   "source": [
    "### проверка задания 2"
   ]
  },
  {
   "cell_type": "code",
   "execution_count": null,
   "id": "fc999045-b195-41d5-b7cf-c4a6bc5280eb",
   "metadata": {},
   "outputs": [
    {
     "name": "stdout",
     "output_type": "stream",
     "text": [
      "2\n",
      "1\n"
     ]
    }
   ],
   "source": [
    "class CountInstancesMeta(type):\n",
    "    _counters = {}\n",
    "\n",
    "    def __new__(mcs, name, bases, namespace):\n",
    "        cls = super().__new__(mcs, name, bases, namespace)\n",
    "        mcs._counters[cls] = 0\n",
    "        cls.get_count = classmethod(lambda cls_inner: mcs._counters[cls_inner])\n",
    "        return cls\n",
    "\n",
    "    def __call__(cls, *args, **kwargs):\n",
    "        CountInstancesMeta._counters[cls] += 1\n",
    "        return super().__call__(*args, **kwargs)\n",
    "\n",
    "\n",
    "class User(metaclass=CountInstancesMeta):\n",
    "    def __init__(self, name):\n",
    "        self.name = name\n",
    "\n",
    "\n",
    "class Product(metaclass=CountInstancesMeta):\n",
    "    def __init__(self, name):\n",
    "        self.name = name\n",
    "\n",
    "\n",
    "# Проверка\n",
    "user1 = User(\"Alice\")\n",
    "user2 = User(\"Bob\")\n",
    "product1 = Product(\"Laptop\")\n",
    "\n",
    "print(User.get_count())    # Должно быть 2\n",
    "print(Product.get_count()) # Должно быть 1"
   ]
  },
  {
   "cell_type": "markdown",
   "id": "a1eab740-56c5-48c3-a937-0d16297e3702",
   "metadata": {},
   "source": [
    "## Задание 3\n",
    "\n",
    "Создайте метакласс, который автоматически добавляет метод describe() в каждый класс.\n",
    "\n",
    "Требования:\n",
    "1. Метод describe() должен возвращать строку с именем класса\n",
    "1. Используйте метакласс для создания классов Car и Book"
   ]
  },
  {
   "cell_type": "markdown",
   "id": "12111f06-5947-4cbc-bde3-0908c7583c23",
   "metadata": {},
   "source": [
    "### проверка задания 3"
   ]
  },
  {
   "cell_type": "code",
   "execution_count": 8,
   "id": "7dd7b115-184d-4866-a13c-1cdec3c25dde",
   "metadata": {},
   "outputs": [
    {
     "name": "stdout",
     "output_type": "stream",
     "text": [
      "Это объект класса Car\n",
      "Это объект класса Book\n"
     ]
    }
   ],
   "source": [
    "class DescribeMeta(type):\n",
    "    def __new__(mcs, name, bases, namespace):\n",
    "        cls = super().__new__(mcs, name, bases, namespace)\n",
    "\n",
    "        def describe(self):\n",
    "            return f\"Это объект класса {self.__class__.__name__}\"\n",
    "\n",
    "        cls.describe = describe\n",
    "        return cls\n",
    "\n",
    "\n",
    "class Car(metaclass=DescribeMeta):\n",
    "    def __init__(self, brand):\n",
    "        self.brand = brand\n",
    "\n",
    "\n",
    "class Book(metaclass=DescribeMeta):\n",
    "    def __init__(self, title):\n",
    "        self.title = title\n",
    "\n",
    "\n",
    "car = Car(\"Toyota\")\n",
    "book = Book(\"Python для начинающих\")\n",
    "\n",
    "print(car.describe())  # Это объект класса Car\n",
    "print(book.describe()) # Это объект класса Book"
   ]
  },
  {
   "cell_type": "markdown",
   "id": "c1e8f0a2-35bc-4152-adcc-5e43cf6af293",
   "metadata": {},
   "source": [
    "## Задание 4\n",
    "\n",
    "Создайте метакласс, который проверяет, что у класса есть метод save(). Можно использовать `__new__`\n",
    "\n",
    "Требования:\n",
    "1. Если у класса нет метода save(), метакласс должен выдать ошибку\n",
    "1. Создайте класс User с методом save()\n",
    "1. Попробуйте создать класс Message без метода save() (должна быть ошибка)"
   ]
  },
  {
   "cell_type": "markdown",
   "id": "73d152ae-7a67-4d35-a616-e829ffd99c07",
   "metadata": {},
   "source": [
    "### проверка задания 4"
   ]
  },
  {
   "cell_type": "code",
   "execution_count": null,
   "id": "8f027e59-2d1f-41b5-9115-3f6e45a84936",
   "metadata": {},
   "outputs": [
    {
     "ename": "TypeError",
     "evalue": "Класс 'Message' должен содержать метод 'save()'",
     "output_type": "error",
     "traceback": [
      "\u001b[31m---------------------------------------------------------------------------\u001b[39m",
      "\u001b[31mTypeError\u001b[39m                                 Traceback (most recent call last)",
      "\u001b[36mCell\u001b[39m\u001b[36m \u001b[39m\u001b[32mIn[12]\u001b[39m\u001b[32m, line 24\u001b[39m\n\u001b[32m     20\u001b[39m         \u001b[38;5;28mprint\u001b[39m(\u001b[33mf\u001b[39m\u001b[33m\"\u001b[39m\u001b[33mПользователь \u001b[39m\u001b[38;5;132;01m{\u001b[39;00m\u001b[38;5;28mself\u001b[39m.name\u001b[38;5;132;01m}\u001b[39;00m\u001b[33m сохранён\u001b[39m\u001b[33m\"\u001b[39m)\n\u001b[32m     23\u001b[39m \u001b[38;5;66;03m# Этот код вызовет ошибку (раскомментируй, чтобы проверить):\u001b[39;00m\n\u001b[32m---> \u001b[39m\u001b[32m24\u001b[39m \u001b[38;5;28;43;01mclass\u001b[39;49;00m\u001b[38;5;250;43m \u001b[39;49m\u001b[34;43;01mMessage\u001b[39;49;00m\u001b[43m(\u001b[49m\u001b[43mmetaclass\u001b[49m\u001b[43m=\u001b[49m\u001b[43mSaveMeta\u001b[49m\u001b[43m)\u001b[49m\u001b[43m:\u001b[49m\n\u001b[32m     25\u001b[39m \u001b[43m     \u001b[49m\u001b[38;5;28;43;01mdef\u001b[39;49;00m\u001b[38;5;250;43m \u001b[39;49m\u001b[34;43m__init__\u001b[39;49m\u001b[43m(\u001b[49m\u001b[38;5;28;43mself\u001b[39;49m\u001b[43m,\u001b[49m\u001b[43m \u001b[49m\u001b[43mtext\u001b[49m\u001b[43m)\u001b[49m\u001b[43m:\u001b[49m\n\u001b[32m     26\u001b[39m \u001b[43m        \u001b[49m\u001b[38;5;28;43mself\u001b[39;49m\u001b[43m.\u001b[49m\u001b[43mtext\u001b[49m\u001b[43m \u001b[49m\u001b[43m=\u001b[49m\u001b[43m \u001b[49m\u001b[43mtext\u001b[49m\n",
      "\u001b[36mCell\u001b[39m\u001b[36m \u001b[39m\u001b[32mIn[12]\u001b[39m\u001b[32m, line 5\u001b[39m, in \u001b[36mSaveMeta.__new__\u001b[39m\u001b[34m(mcs, name, bases, namespace)\u001b[39m\n\u001b[32m      2\u001b[39m \u001b[38;5;28;01mdef\u001b[39;00m\u001b[38;5;250m \u001b[39m\u001b[34m__new__\u001b[39m(mcs, name, bases, namespace):\n\u001b[32m      3\u001b[39m     \u001b[38;5;66;03m# Проверяем, есть ли в классе метод 'save'\u001b[39;00m\n\u001b[32m      4\u001b[39m     \u001b[38;5;28;01mif\u001b[39;00m \u001b[33m'\u001b[39m\u001b[33msave\u001b[39m\u001b[33m'\u001b[39m \u001b[38;5;129;01mnot\u001b[39;00m \u001b[38;5;129;01min\u001b[39;00m namespace:\n\u001b[32m----> \u001b[39m\u001b[32m5\u001b[39m         \u001b[38;5;28;01mraise\u001b[39;00m \u001b[38;5;167;01mTypeError\u001b[39;00m(\u001b[33mf\u001b[39m\u001b[33m\"\u001b[39m\u001b[33mКласс \u001b[39m\u001b[33m'\u001b[39m\u001b[38;5;132;01m{\u001b[39;00mname\u001b[38;5;132;01m}\u001b[39;00m\u001b[33m'\u001b[39m\u001b[33m должен содержать метод \u001b[39m\u001b[33m'\u001b[39m\u001b[33msave()\u001b[39m\u001b[33m'\u001b[39m\u001b[33m\"\u001b[39m)\n\u001b[32m      6\u001b[39m     \u001b[38;5;66;03m# Убедимся, что 'save' — это вызываемый метод (функция)\u001b[39;00m\n\u001b[32m      7\u001b[39m     \u001b[38;5;28;01mif\u001b[39;00m \u001b[38;5;129;01mnot\u001b[39;00m \u001b[38;5;28mcallable\u001b[39m(namespace[\u001b[33m'\u001b[39m\u001b[33msave\u001b[39m\u001b[33m'\u001b[39m]):\n",
      "\u001b[31mTypeError\u001b[39m: Класс 'Message' должен содержать метод 'save()'"
     ]
    }
   ],
   "source": [
    "class SaveMeta(type):\n",
    "    def __new__(mcs, name, bases, namespace):\n",
    "        if 'save' not in namespace:\n",
    "            raise TypeError(f\"Класс '{name}' должен содержать метод 'save()'\")\n",
    "        if not callable(namespace['save']):\n",
    "            raise TypeError(f\"Атрибут 'save' в классе '{name}' должен быть методом\")\n",
    "        \n",
    "        return super().__new__(mcs, name, bases, namespace)\n",
    "\n",
    "\n",
    "class User(metaclass=SaveMeta):\n",
    "    def __init__(self, name):\n",
    "        self.name = name\n",
    "\n",
    "    def save(self):\n",
    "        print(f\"Пользователь {self.name} сохранён\")\n",
    "\n",
    "\n",
    "# Этот код вызовет ошибку (раскомментируй, чтобы проверить):\n",
    "class Message(metaclass=SaveMeta):\n",
    "     def __init__(self, text):\n",
    "        self.text = text\n",
    "\n",
    "\n",
    "# Проверка\n",
    "user = User(\"Alice\")\n",
    "user.save()  # Должно работать → выведет: \"Пользователь Alice сохранён\""
   ]
  },
  {
   "cell_type": "code",
   "execution_count": null,
   "id": "52eeecce-f4d0-413a-90d3-ad5d928de942",
   "metadata": {},
   "outputs": [],
   "source": []
  },
  {
   "cell_type": "code",
   "execution_count": null,
   "id": "c25c40d0-1c93-4065-880d-460b6c1be773",
   "metadata": {},
   "outputs": [],
   "source": []
  },
  {
   "cell_type": "code",
   "execution_count": null,
   "id": "9ecd9597-fc96-4e3f-8c72-80076c05f01b",
   "metadata": {},
   "outputs": [],
   "source": []
  }
 ],
 "metadata": {
  "kernelspec": {
   "display_name": "Python 3",
   "language": "python",
   "name": "python3"
  },
  "language_info": {
   "codemirror_mode": {
    "name": "ipython",
    "version": 3
   },
   "file_extension": ".py",
   "mimetype": "text/x-python",
   "name": "python",
   "nbconvert_exporter": "python",
   "pygments_lexer": "ipython3",
   "version": "3.11.9"
  }
 },
 "nbformat": 4,
 "nbformat_minor": 5
}
