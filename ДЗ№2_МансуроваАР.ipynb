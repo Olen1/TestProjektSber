{
 "cells": [
  {
   "cell_type": "markdown",
   "id": "11b18bb3-fff1-471b-b6c3-398b606b8e9a",
   "metadata": {},
   "source": [
    "## Домашняя работа\n",
    "ФИО: Мансурова А.Р."
   ]
  },
  {
   "cell_type": "markdown",
   "id": "2594ef30-212b-4086-a947-99396ceedaf2",
   "metadata": {},
   "source": [
    "## Задание 1\n",
    "\n",
    "Используя библиотеку requests , выполните GET-запрос к публичному API и извлеките\n",
    "данные. Помимо запроса из примера выполните запрос на любой иной url и напишите к нему проверку.\n",
    "\n",
    "Пример: запросите `https://api.agify.io?name=Ivan` (сервис предсказания возраста\n",
    "по имени). Напишите функцию, которая возвращает предсказанный возраст."
   ]
  },
  {
   "cell_type": "code",
   "execution_count": null,
   "id": "5fc0e27c-ea96-452f-820e-737660866f11",
   "metadata": {},
   "outputs": [
    {
     "name": "stderr",
     "output_type": "stream",
     "text": [
      "\n",
      "[notice] A new release of pip is available: 24.0 -> 25.3\n",
      "[notice] To update, run: C:\\Users\\Alina\\AppData\\Local\\Microsoft\\WindowsApps\\PythonSoftwareFoundation.Python.3.11_qbz5n2kfra8p0\\python.exe -m pip install --upgrade pip\n"
     ]
    },
    {
     "name": "stdout",
     "output_type": "stream",
     "text": [
      "Requirement already satisfied: requests in c:\\users\\alina\\appdata\\local\\packages\\pythonsoftwarefoundation.python.3.11_qbz5n2kfra8p0\\localcache\\local-packages\\python311\\site-packages (2.32.5)\n",
      "Requirement already satisfied: charset_normalizer<4,>=2 in c:\\users\\alina\\appdata\\local\\packages\\pythonsoftwarefoundation.python.3.11_qbz5n2kfra8p0\\localcache\\local-packages\\python311\\site-packages (from requests) (3.4.4)\n",
      "Requirement already satisfied: idna<4,>=2.5 in c:\\users\\alina\\appdata\\local\\packages\\pythonsoftwarefoundation.python.3.11_qbz5n2kfra8p0\\localcache\\local-packages\\python311\\site-packages (from requests) (3.11)\n",
      "Requirement already satisfied: urllib3<3,>=1.21.1 in c:\\users\\alina\\appdata\\local\\packages\\pythonsoftwarefoundation.python.3.11_qbz5n2kfra8p0\\localcache\\local-packages\\python311\\site-packages (from requests) (2.5.0)\n",
      "Requirement already satisfied: certifi>=2017.4.17 in c:\\users\\alina\\appdata\\local\\packages\\pythonsoftwarefoundation.python.3.11_qbz5n2kfra8p0\\localcache\\local-packages\\python311\\site-packages (from requests) (2025.10.5)\n",
      "Возраст: 41\n",
      "Изображение получено! Размер: 8090 байт\n"
     ]
    }
   ],
   "source": [
    "!pip install requests\n",
    "import requests\n",
    "from typing import Optional, Union\n",
    "\n",
    "\n",
    "def get_predicted_age(name: str) -> Optional[int]:\n",
    "    url = f\"https://api.agify.io/?name={name}\"\n",
    "    try:\n",
    "        response = requests.get(url, timeout=5)\n",
    "        if response.status_code == 200:\n",
    "            data = response.json()\n",
    "            age = data.get(\"age\")\n",
    "            return int(age) if age is not None else None\n",
    "        else:\n",
    "            print(f\"Ошибка запроса к agify.io: статус {response.status_code}\")\n",
    "            return None\n",
    "    except requests.exceptions.RequestException as e:\n",
    "        print(f\"Ошибка соединения с agify.io: {e}\")\n",
    "        return None\n",
    "\n",
    "\n",
    "# Функция 2: получение изображения\n",
    "def get_predicted_image() -> Optional[bytes]:\n",
    "    url = \"https://httpbin.org/image/png\" \n",
    "    try:\n",
    "        response = requests.get(url, timeout=5)\n",
    "        if response.status_code == 200:\n",
    "         \n",
    "            return response.content\n",
    "        else:\n",
    "            print(f\"Ошибка запроса к httpbin.org: статус {response.status_code}\")\n",
    "            return None\n",
    "    except requests.exceptions.RequestException as e:\n",
    "        print(f\"Ошибка соединения с httpbin.org: {e}\")\n",
    "        return None\n"
   ]
  },
  {
   "cell_type": "markdown",
   "id": "96838eb3-e066-4f39-90d1-5dde13c480e1",
   "metadata": {},
   "source": [
    "## Проверка задания 1 для примера"
   ]
  },
  {
   "cell_type": "code",
   "execution_count": 11,
   "id": "759a667a-b5db-4c54-a325-caba3fa0e7af",
   "metadata": {},
   "outputs": [
    {
     "name": "stdout",
     "output_type": "stream",
     "text": [
      "Age is int or None: True\n",
      "Age1 type is int: True\n",
      "Age1 value Alina: 41\n"
     ]
    }
   ],
   "source": [
    "age = get_predicted_age(\"Ivan\")\n",
    "print(\"Age is int or None:\", isinstance(age, int) or age is None)\n",
    "\n",
    "age1 = get_predicted_age(\"Alina\")\n",
    "print(\"Age1 type is int:\", isinstance(age1, int))\n",
    "print(\"Age1 value Alina:\", age1)"
   ]
  },
  {
   "cell_type": "code",
   "execution_count": 13,
   "id": "6677e255",
   "metadata": {},
   "outputs": [
    {
     "name": "stdout",
     "output_type": "stream",
     "text": [
      "Изображение получено! Размер: 8090 байт\n"
     ]
    }
   ],
   "source": [
    "\n",
    "image_data = get_predicted_image()\n",
    "if image_data is not None:\n",
    "    print(\"Изображение получено! Размер:\", len(image_data), \"байт\")\n",
    "    # Можно сохранить:\n",
    "    # with open(\"image.png\", \"wb\") as f:\n",
    "    #     f.write(image_data)\n",
    "else:\n",
    "    print(\"Не удалось получить изображение\")"
   ]
  },
  {
   "cell_type": "markdown",
   "id": "74bb3fed-7300-4a13-831c-c17747d3f9a7",
   "metadata": {},
   "source": [
    "## Задание 2\n",
    "\n",
    "Дана строка с контактными данными:\n",
    "\n",
    "`Для связи: test@example.com, support@test.org. Не используйте адреса: spam@badsite.com.`\n",
    "\n",
    "С помощью модуля `re` извлеките все email-адреса."
   ]
  },
  {
   "cell_type": "code",
   "execution_count": 3,
   "id": "9b09efd2-5ac1-43ab-8bf4-0327ba23a487",
   "metadata": {},
   "outputs": [],
   "source": [
    "import re\n",
    "\n",
    "def extract_emails(text: str) -> list[str]:\n",
    "    \"\"\"Извлекает все email-адреса из строки с помощью регулярных выражений.\"\"\"\n",
    "    pattern = r'\\b[A-Za-z0-9._%+-]+@[A-Za-z0-9.-]+\\.[A-Za-z]{2,}\\b'\n",
    "    return re.findall(pattern, text)\n",
    "\n",
    "text = \"Для связи: test@example.com, support@test.org. Не используйте адреса: spam@badsite.com.\"\n"
   ]
  },
  {
   "cell_type": "markdown",
   "id": "b39c16f6-37bb-494d-bece-b799bbe2ca2a",
   "metadata": {},
   "source": [
    "## Проверка задания 1"
   ]
  },
  {
   "cell_type": "code",
   "execution_count": 4,
   "id": "1579511e-7add-405a-9c31-982a549405fd",
   "metadata": {},
   "outputs": [
    {
     "name": "stdout",
     "output_type": "stream",
     "text": [
      "Emails extracted correctly: True\n"
     ]
    }
   ],
   "source": [
    "emails = extract_emails(text)\n",
    "expected_emails = [\"test@example.com\", \"support@test.org\", \"spam@badsite.com\"]\n",
    "\n",
    "print(\"Emails extracted correctly:\", emails == expected_emails)"
   ]
  },
  {
   "cell_type": "markdown",
   "id": "fc421667-7776-4270-a0dd-6b5560b4cdf9",
   "metadata": {},
   "source": [
    "### Полезные ссылки\n",
    "\n",
    "[Теория по регулярным выражениям](https://selectel.ru/blog/courses/regex-course/)"
   ]
  }
 ],
 "metadata": {
  "kernelspec": {
   "display_name": "Python 3",
   "language": "python",
   "name": "python3"
  },
  "language_info": {
   "codemirror_mode": {
    "name": "ipython",
    "version": 3
   },
   "file_extension": ".py",
   "mimetype": "text/x-python",
   "name": "python",
   "nbconvert_exporter": "python",
   "pygments_lexer": "ipython3",
   "version": "3.11.9"
  }
 },
 "nbformat": 4,
 "nbformat_minor": 5
}
